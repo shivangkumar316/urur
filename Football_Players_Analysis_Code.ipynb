{
 "cells": [
  {
   "cell_type": "markdown",
   "id": "15d69b18",
   "metadata": {},
   "source": [
    "## Football Players Analysis Report"
   ]
  },
  {
   "cell_type": "markdown",
   "id": "7a1da8ea",
   "metadata": {},
   "source": [
    "### Importing Libraries"
   ]
  },
  {
   "cell_type": "code",
   "execution_count": null,
   "id": "1328d7d4",
   "metadata": {},
   "outputs": [],
   "source": [
    "import pandas as pd\n",
    "import matplotlib.pyplot as plt\n",
    "import seaborn as sns"
   ]
  },
  {
   "cell_type": "markdown",
   "id": "1d0b1227",
   "metadata": {},
   "source": [
    "### Load and Filter Data"
   ]
  },
  {
   "cell_type": "code",
   "execution_count": null,
   "id": "b753423d",
   "metadata": {},
   "outputs": [],
   "source": [
    "\n",
    "# Load the dataset\n",
    "file_path = '/mnt/data/players_21.csv'\n",
    "df = pd.read_csv(file_path)\n",
    "\n",
    "# Filter the dataset to include only players from the specified countries\n",
    "selected_countries = ['United States', 'Portugal', 'Argentina', 'Brazil', 'Spain', 'England']\n",
    "filtered_df = df[df['nationality'].isin(selected_countries)]\n"
   ]
  },
  {
   "cell_type": "markdown",
   "id": "c0c82a2d",
   "metadata": {},
   "source": [
    "### Plots and Analysis"
   ]
  },
  {
   "cell_type": "code",
   "execution_count": null,
   "id": "4ba1c421",
   "metadata": {},
   "outputs": [],
   "source": [
    "\n",
    "# Bar plot for 'overall' ratings\n",
    "plt.figure(figsize=(12, 6))\n",
    "sns.barplot(x='nationality', y='overall', data=filtered_df, ci=None, palette='muted', order=selected_countries)\n",
    "plt.title('Average Overall Ratings of Players by Country')\n",
    "plt.xlabel('Country')\n",
    "plt.ylabel('Average Overall Rating')\n",
    "plt.show()\n",
    "\n",
    "# Histogram for 'height_cm'\n",
    "plt.figure(figsize=(14, 6))\n",
    "sns.histplot(filtered_df, x='height_cm', hue='nationality', element='step', stat='density', common_norm=False)\n",
    "plt.title('Distribution of Heights of Players by Country')\n",
    "plt.xlabel('Height (cm)')\n",
    "plt.ylabel('Density')\n",
    "plt.legend(title='Country', labels=selected_countries)\n",
    "plt.show()\n",
    "\n",
    "# Box plot for 'height_cm'\n",
    "plt.figure(figsize=(12, 6))\n",
    "sns.boxplot(x='nationality', y='height_cm', data=filtered_df, palette='muted', order=selected_countries)\n",
    "plt.title('Box Plot of Heights of Players by Country')\n",
    "plt.xlabel('Country')\n",
    "plt.ylabel('Height (cm)')\n",
    "plt.show()\n",
    "\n",
    "# Scatter plot for 'weight_kg'\n",
    "plt.figure(figsize=(12, 6))\n",
    "sns.scatterplot(x='nationality', y='weight_kg', data=filtered_df, hue='nationality', palette='muted', s=40, alpha=0.6)\n",
    "plt.title('Distribution of Weight of Players by Country')\n",
    "plt.xlabel('Country')\n",
    "plt.ylabel('Weight (kg)')\n",
    "plt.legend(title='Country', labels=selected_countries, bbox_to_anchor=(1.05, 1), loc='upper left')\n",
    "plt.show()\n",
    "\n",
    "# Pie chart for top 10 most valuable players\n",
    "top_10_valuable_players = filtered_df.sort_values(by='value_eur', ascending=False).head(10)\n",
    "plt.figure(figsize=(10, 8))\n",
    "plt.pie(top_10_valuable_players['value_eur'], labels=top_10_valuable_players['short_name'], autopct='%1.1f%%', startangle=140)\n",
    "plt.title('Top 10 Most Valuable Players from Selected Countries')\n",
    "plt.axis('equal')\n",
    "plt.show()\n"
   ]
  }
 ],
 "metadata": {},
 "nbformat": 4,
 "nbformat_minor": 5
}